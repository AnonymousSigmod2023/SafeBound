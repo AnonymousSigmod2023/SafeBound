{
 "cells": [
  {
   "cell_type": "code",
   "execution_count": 1,
   "id": "3f123206-d375-42c9-b1c2-73678666802e",
   "metadata": {},
   "outputs": [],
   "source": [
    "import sys, os\n",
    "import pandas as pd\n",
    "import numpy as np\n",
    "sys.path.append(str(_dh[0]) +'/Source')\n",
    "from SafeBoundUtils import *\n",
    "from JoinGraphUtils import *"
   ]
  },
  {
   "cell_type": "code",
   "execution_count": 2,
   "id": "889225af-ed2d-46ae-a200-80dcc4bac724",
   "metadata": {},
   "outputs": [
    {
     "data": {
      "text/plain": [
       "'/home/ubuntu/SafeBound/Source'"
      ]
     },
     "execution_count": 2,
     "metadata": {},
     "output_type": "execute_result"
    }
   ],
   "source": [
    "str(_dh[0]) +'/Source'"
   ]
  },
  {
   "cell_type": "code",
   "execution_count": 3,
   "id": "a45376c8-f961-4219-9dc0-1f72103ff685",
   "metadata": {},
   "outputs": [
    {
     "name": "stderr",
     "output_type": "stream",
     "text": [
      "/home/ubuntu/anaconda3/envs/TestEnv/lib/python3.10/concurrent/futures/thread.py:58: FutureWarning: Passing a set as an indexer is deprecated and will raise in a future version. Use a list instead.\n",
      "  result = self.fn(*self.args, **self.kwargs)\n",
      "/home/ubuntu/anaconda3/envs/TestEnv/lib/python3.10/concurrent/futures/thread.py:58: FutureWarning: Passing a set as an indexer is deprecated and will raise in a future version. Use a list instead.\n",
      "  result = self.fn(*self.args, **self.kwargs)\n"
     ]
    }
   ],
   "source": [
    "R = pd.DataFrame()\n",
    "R[\"X\"] = np.random.randint(1, 100, 1000)\n",
    "S = pd.DataFrame()\n",
    "S[\"X\"] = np.random.randint(1, 100, 3000)\n",
    "S[\"Y\"] = np.random.randint(1, 1000, 3000)\n",
    "T = pd.DataFrame()\n",
    "T[\"Y\"] = np.array(range(0,1000))\n",
    "T[\"A\"] =  np.random.randint(1, 100, 1000)\n",
    "\n",
    "tableDFs = [R, S, T]\n",
    "tableNames = [\"R\", \"S\", \"T\"]\n",
    "tableJoinCols = [[\"X\"], [\"X\", \"Y\"], [\"Y\"]]\n",
    "filterColumns = [[], [], [\"A\"]]\n",
    "FKtoKDict = {\"S\": [[\"Y\", \"T\", \"Y\"]]}  # S has a FK-PK relationship with T on the attribute Y\n",
    "trueCardinality = len(R.merge(S, on=\"X\").merge(T[T[\"A\"]<20], on=\"Y\"))\n",
    "\n",
    "# Building the statistics object\n",
    "safeBound = SafeBound(tableDFs=tableDFs, tableNames=tableNames, tableJoinCols=tableJoinCols, originalFilterCols=filterColumns, FKtoKDict=FKtoKDict)"
   ]
  },
  {
   "cell_type": "code",
   "execution_count": 4,
   "id": "ed3388a6-d6ea-4cd6-93c0-c69719f7a38a",
   "metadata": {},
   "outputs": [
    {
     "name": "stdout",
     "output_type": "stream",
     "text": [
      "R is the 1th joined table with predicates: \n",
      "R joins with S on column X\n",
      "S is the 2th joined table with predicates: \n",
      "S joins with T on column Y\n",
      "S joins with R on column X\n",
      "T is the 3th joined table with predicates: A < 20 \n",
      "T joins with S on column Y\n"
     ]
    }
   ],
   "source": [
    "# Defining a query\n",
    "query = JoinQueryGraph()\n",
    "query.addJoin(\"R\",\"X\",\"S\", \"X\")\n",
    "query.addJoin(\"S\",\"Y\",\"T\", \"Y\")\n",
    "query.addPredicate(\"T\",\"A\",\"<\", 20)\n",
    "query.buildJoinGraph()\n",
    "query.printJoinGraph()"
   ]
  },
  {
   "cell_type": "code",
   "execution_count": 5,
   "id": "ce03a191-49ff-4988-9a66-c2708d290dd8",
   "metadata": {},
   "outputs": [
    {
     "name": "stdout",
     "output_type": "stream",
     "text": [
      "True Cardinality: 5657\n",
      "Cardinality Bound: 25466.0\n"
     ]
    },
    {
     "ename": "TypeError",
     "evalue": "PiecewiseConstantFunction.memory() takes no arguments (1 given)",
     "output_type": "error",
     "traceback": [
      "\u001b[0;31m---------------------------------------------------------------------------\u001b[0m",
      "\u001b[0;31mTypeError\u001b[0m                                 Traceback (most recent call last)",
      "Input \u001b[0;32mIn [5]\u001b[0m, in \u001b[0;36m<cell line: 4>\u001b[0;34m()\u001b[0m\n\u001b[1;32m      2\u001b[0m \u001b[38;5;28mprint\u001b[39m(\u001b[38;5;124m\"\u001b[39m\u001b[38;5;124mTrue Cardinality: \u001b[39m\u001b[38;5;124m\"\u001b[39m \u001b[38;5;241m+\u001b[39m \u001b[38;5;28mstr\u001b[39m(trueCardinality))\n\u001b[1;32m      3\u001b[0m \u001b[38;5;28mprint\u001b[39m(\u001b[38;5;124m\"\u001b[39m\u001b[38;5;124mCardinality Bound: \u001b[39m\u001b[38;5;124m\"\u001b[39m \u001b[38;5;241m+\u001b[39m \u001b[38;5;28mstr\u001b[39m(bound))\n\u001b[0;32m----> 4\u001b[0m \u001b[38;5;28mprint\u001b[39m(\u001b[38;5;124m\"\u001b[39m\u001b[38;5;124mSafeBound Memory (kB): \u001b[39m\u001b[38;5;124m\"\u001b[39m \u001b[38;5;241m+\u001b[39m \u001b[38;5;28mstr\u001b[39m(\u001b[43msafeBound\u001b[49m\u001b[38;5;241;43m.\u001b[39;49m\u001b[43mmemory\u001b[49m\u001b[43m(\u001b[49m\u001b[43m)\u001b[49m\u001b[38;5;241m/\u001b[39m\u001b[38;5;241m1000\u001b[39m))\n",
      "File \u001b[0;32m~/SafeBound/Source/SafeBoundUtils.pyx:415\u001b[0m, in \u001b[0;36mSafeBoundUtils.SafeBound.memory\u001b[0;34m()\u001b[0m\n",
      "File \u001b[0;32m~/SafeBound/Source/SafeBoundUtils.pyx:87\u001b[0m, in \u001b[0;36mSafeBoundUtils.TableStats.memory\u001b[0;34m()\u001b[0m\n",
      "File \u001b[0;32m~/SafeBound/Source/HistogramUtils.pyx:163\u001b[0m, in \u001b[0;36mHistogramUtils.MultiColumnFunctionHistogram.memory\u001b[0;34m()\u001b[0m\n",
      "\u001b[0;31mTypeError\u001b[0m: PiecewiseConstantFunction.memory() takes no arguments (1 given)"
     ]
    }
   ],
   "source": [
    "bound = safeBound.functionalFrequencyBound(query)\n",
    "print(\"True Cardinality: \" + str(trueCardinality))\n",
    "print(\"Cardinality Bound: \" + str(bound))\n",
    "print(\"SafeBound Memory (kB): \" + str(safeBound.memory()/1000))"
   ]
  },
  {
   "cell_type": "code",
   "execution_count": null,
   "id": "a248bc8f-4224-4fce-95d2-f229bc17c603",
   "metadata": {},
   "outputs": [],
   "source": []
  },
  {
   "cell_type": "code",
   "execution_count": null,
   "id": "7d81b188-cff2-46ae-bcdd-e379cdf86910",
   "metadata": {},
   "outputs": [],
   "source": []
  }
 ],
 "metadata": {
  "kernelspec": {
   "display_name": "Python 3 (ipykernel)",
   "language": "python",
   "name": "python3"
  },
  "language_info": {
   "codemirror_mode": {
    "name": "ipython",
    "version": 3
   },
   "file_extension": ".py",
   "mimetype": "text/x-python",
   "name": "python",
   "nbconvert_exporter": "python",
   "pygments_lexer": "ipython3",
   "version": "3.10.4"
  }
 },
 "nbformat": 4,
 "nbformat_minor": 5
}
