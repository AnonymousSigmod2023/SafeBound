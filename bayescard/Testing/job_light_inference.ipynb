{
 "cells": [
  {
   "cell_type": "code",
   "execution_count": 2,
   "metadata": {},
   "outputs": [],
   "source": [
    "import warnings\n",
    "warnings.filterwarnings('ignore')\n",
    "import pickle\n",
    "import argparse\n",
    "import time\n",
    "import sys\n",
    "import numpy as np\n",
    "import pandas as pd\n",
    "import os\n",
    "import copy\n",
    "import matplotlib.pyplot as plt\n",
    "rootDirectory = \"/homes/gws/kdeeds/FrequencyBounds\""
   ]
  },
  {
   "cell_type": "code",
   "execution_count": 4,
   "metadata": {},
   "outputs": [],
   "source": [
    "sys.path.append(rootDirectory + \"/BayesCard\")\n",
    "from Schemas.imdb.schema import gen_job_light_imdb_schema\n",
    "schema = gen_job_light_imdb_schema(rootDirectory +\"/Data/JOB\")\n",
    "ensemble_location = rootDirectory + \"/StatObjects/BayesCardEnsembles/JOBLight/\"\n",
    "from DataPrepare.query_prepare_BayesCard import prepare_join_queries\n",
    "query_filename = rootDirectory + \"/Workloads/JOBLightQueriesBayes.sql\" \n",
    "parsed_queries, true = prepare_join_queries(schema, ensemble_location, pairwise_rdc_path=None, \n",
    "                                            query_filename=query_filename, true_card_exist=True)"
   ]
  },
  {
   "cell_type": "code",
   "execution_count": 5,
   "metadata": {},
   "outputs": [
    {
     "name": "stdout",
     "output_type": "stream",
     "text": [
      "4_chow-liu_1.pkl\n",
      "3_chow-liu_1.pkl\n",
      "1_chow-liu_1.pkl\n",
      "0_chow-liu_1.pkl\n",
      "2_chow-liu_1.pkl\n"
     ]
    }
   ],
   "source": [
    "from Models.BN_ensemble_model import BN_ensemble\n",
    "def load_ensemble(schema, model_path=ensemble_location):\n",
    "    bn_ensemble = BN_ensemble(schema)\n",
    "    for file in os.listdir(model_path):\n",
    "        if file.endswith(\".pkl\"):\n",
    "            print(file)\n",
    "            with open(model_path+file, \"rb\") as f:\n",
    "                bn = pickle.load(f)\n",
    "                bn.infer_algo = \"exact-jit\"\n",
    "                bn.init_inference_method()\n",
    "            bn_ensemble.bns.append(bn)\n",
    "            #bn_ensemble.bns[int(file[0])] = bn\n",
    "    return bn_ensemble\n",
    "bn_ensemble = load_ensemble(schema)\n",
    "with open(query_filename, \"rb\") as f:\n",
    "    real_query = f.readlines()\n",
    "queries = bn_ensemble.parse_query_all(parsed_queries)"
   ]
  },
  {
   "cell_type": "code",
   "execution_count": 8,
   "metadata": {},
   "outputs": [
    {
     "name": "stdout",
     "output_type": "stream",
     "text": [
      "predicting query no 0: b'SELECT COUNT(*) FROM movie_companies mc,title t,movie_info_idx mi_idx WHERE t.id=mc.movie_id AND t.id=mi_idx.movie_id AND mi_idx.info_type_id=112 AND mc.company_type_id=2||715\\n' \n",
      "\n",
      "true cardinality 715, predicted 3536.0838050461816 with q-error 4.945571755309345\n",
      "predicting query no 1: b'SELECT COUNT(*) FROM movie_companies mc,title t,movie_info_idx mi_idx WHERE t.id=mc.movie_id AND t.id=mi_idx.movie_id AND mi_idx.info_type_id=113 AND mc.company_type_id=2 AND t.production_year>2005 AND t.production_year<2010||9\\n' \n",
      "\n",
      "true cardinality 9, predicted 19.90215808474934 with q-error 2.211350898305482\n",
      "predicting query no 2: b'SELECT COUNT(*) FROM movie_companies mc,title t,movie_info_idx mi_idx WHERE t.id=mc.movie_id AND t.id=mi_idx.movie_id AND mi_idx.info_type_id=112 AND mc.company_type_id=2 AND t.production_year>2010||47\\n' \n",
      "\n",
      "true cardinality 47, predicted 161.09078182570047 with q-error 3.42746344310001\n",
      "predicting query no 3: b'SELECT COUNT(*) FROM movie_companies mc,title t,movie_info_idx mi_idx WHERE t.id=mc.movie_id AND t.id=mi_idx.movie_id AND mi_idx.info_type_id=113 AND mc.company_type_id=2 AND t.production_year>2000||16\\n' \n",
      "\n",
      "true cardinality 16, predicted 62.86646923680318 with q-error 3.9291543273001985\n",
      "predicting query no 4: b'SELECT COUNT(*) FROM movie_companies mc,title t,movie_keyword mk WHERE t.id=mc.movie_id AND t.id=mk.movie_id AND mk.keyword_id=117||148552\\n' \n",
      "\n",
      "true cardinality 148552, predicted 86119.8492566144 with q-error 1.7249449607993887\n",
      "predicting query no 5: b'SELECT COUNT(*) FROM title t,movie_info mi,movie_keyword mk WHERE t.id=mi.movie_id AND t.id=mk.movie_id AND t.production_year>2005||62682311\\n' \n",
      "\n",
      "true cardinality 62682311, predicted 39882421.338540375 with q-error 1.571677668913922\n",
      "predicting query no 6: b'SELECT COUNT(*) FROM title t,movie_info mi,movie_keyword mk WHERE t.id=mi.movie_id AND t.id=mk.movie_id AND t.production_year>2010||11990578\\n' \n",
      "\n",
      "true cardinality 11990578, predicted 9572557.420687271 with q-error 1.2525992243292414\n",
      "predicting query no 7: b'SELECT COUNT(*) FROM title t,movie_info mi,movie_keyword mk WHERE t.id=mi.movie_id AND t.id=mk.movie_id AND t.production_year>1990||157041640\\n' \n",
      "\n",
      "true cardinality 157041640, predicted 104580458.7389287 with q-error 1.5016346446904933\n",
      "predicting query no 8: b'SELECT COUNT(*) FROM title t,movie_info_idx mi_idx,movie_keyword mk WHERE t.id=mi_idx.movie_id AND t.id=mk.movie_id AND t.production_year>2005 AND mi_idx.info_type_id=101||850677\\n' \n",
      "\n",
      "true cardinality 850677, predicted 894439.7327903297 with q-error 1.051444593882672\n",
      "predicting query no 9: b'SELECT COUNT(*) FROM title t,movie_info_idx mi_idx,movie_keyword mk WHERE t.id=mi_idx.movie_id AND t.id=mk.movie_id AND t.production_year>2010 AND mi_idx.info_type_id=101||179616\\n' \n",
      "\n",
      "true cardinality 179616, predicted 237098.9799913094 with q-error 1.3200326251075039\n",
      "predicting query no 10: b'SELECT COUNT(*) FROM title t,movie_info_idx mi_idx,movie_keyword mk WHERE t.id=mi_idx.movie_id AND t.id=mk.movie_id AND t.production_year>1990 AND mi_idx.info_type_id=101||2031666\\n' \n",
      "\n",
      "true cardinality 2031666, predicted 1913836.4680958043 with q-error 1.0615671891869798\n",
      "predicting query no 11: b'SELECT COUNT(*) FROM title t,movie_info mi,movie_companies mc WHERE t.id=mi.movie_id AND t.id=mc.movie_id AND t.production_year>2005 AND mc.company_type_id=2||6333736\\n' \n",
      "\n",
      "true cardinality 6333736, predicted 6431823.895205594 with q-error 1.0154865777805695\n",
      "predicting query no 12: b'SELECT COUNT(*) FROM title t,movie_info mi,movie_companies mc WHERE t.id=mi.movie_id AND t.id=mc.movie_id AND t.production_year>2010 AND mc.company_type_id=2||1931628\\n' \n",
      "\n",
      "true cardinality 1931628, predicted 1908791.16543836 with q-error 1.0119640298923929\n",
      "predicting query no 13: b'SELECT COUNT(*) FROM title t,movie_info mi,movie_companies mc WHERE t.id=mi.movie_id AND t.id=mc.movie_id AND t.production_year>1990 AND mc.company_type_id=2||12738520\\n' \n",
      "\n",
      "true cardinality 12738520, predicted 13016626.224548904 with q-error 1.0218319101864977\n",
      "predicting query no 14: b'SELECT COUNT(*) FROM movie_keyword mk,title t,cast_info ci WHERE t.id=mk.movie_id AND t.id=ci.movie_id AND t.production_year>2010 AND mk.keyword_id=8200||1224\\n' \n",
      "\n",
      "true cardinality 1224, predicted 2879.1791791197497 with q-error 2.352270571176266\n",
      "predicting query no 15: b'SELECT COUNT(*) FROM movie_keyword mk,title t,cast_info ci WHERE t.id=mk.movie_id AND t.id=ci.movie_id AND t.production_year>2014||13221\\n' \n",
      "\n",
      "true cardinality 13221, predicted 21122.66022211636 with q-error 1.597659800477752\n",
      "predicting query no 16: b'SELECT COUNT(*) FROM movie_keyword mk,title t,cast_info ci WHERE t.id=mk.movie_id AND t.id=ci.movie_id AND t.production_year>2014 AND mk.keyword_id=8200||33\\n' \n",
      "\n",
      "true cardinality 33, predicted 4.536653260013429 with q-error 7.274084685039896\n",
      "predicting query no 17: b'SELECT COUNT(*) FROM movie_keyword mk,title t,cast_info ci WHERE t.id=mk.movie_id AND t.id=ci.movie_id AND t.production_year>2000 AND mk.keyword_id=8200||1224\\n' \n",
      "\n",
      "true cardinality 1224, predicted 22391.457603333565 with q-error 18.293674512527424\n",
      "predicting query no 18: b'SELECT COUNT(*) FROM movie_keyword mk,title t,cast_info ci WHERE t.id=mk.movie_id AND t.id=ci.movie_id AND t.production_year>2000||114182642\\n' \n",
      "\n",
      "true cardinality 114182642, predicted 93577472.79008384 with q-error 1.220193691874308\n",
      "predicting query no 19: b'SELECT COUNT(*) FROM cast_info ci,title t WHERE t.id=ci.movie_id AND t.production_year>1980 AND t.production_year<1995||4533382\\n' \n",
      "\n",
      "true cardinality 4533382, predicted 1245493.6536133776 with q-error 3.639827458652984\n",
      "predicting query no 20: b'SELECT COUNT(*) FROM cast_info ci,title t WHERE t.id=ci.movie_id AND t.production_year>1980 AND t.production_year<1984||695701\\n' \n",
      "\n",
      "true cardinality 695701, predicted 190633.04978803397 with q-error 3.6494249070324067\n",
      "predicting query no 21: b'SELECT COUNT(*) FROM cast_info ci,title t WHERE t.id=ci.movie_id AND t.production_year>1980 AND t.production_year<2010||21454165\\n' \n",
      "\n",
      "true cardinality 21454165, predicted 5897754.784374035 with q-error 3.637683454870371\n",
      "predicting query no 22: b'SELECT COUNT(*) FROM cast_info ci,title t,movie_companies mc WHERE t.id=ci.movie_id AND t.id=mc.movie_id AND ci.role_id=2||13355828\\n' \n",
      "\n",
      "true cardinality 13355828, predicted 4257780.011781297 with q-error 3.136805556662008\n",
      "predicting query no 23: b'SELECT COUNT(*) FROM cast_info ci,title t,movie_companies mc WHERE t.id=ci.movie_id AND t.id=mc.movie_id AND ci.role_id=4||4450853\\n' \n",
      "\n",
      "true cardinality 4450853, predicted 1318731.786552855 with q-error 3.3751010215917083\n",
      "predicting query no 24: b'SELECT COUNT(*) FROM cast_info ci,title t,movie_companies mc WHERE t.id=ci.movie_id AND t.id=mc.movie_id AND ci.role_id=7||794591\\n' \n",
      "\n",
      "true cardinality 794591, predicted 169609.95748780784 with q-error 4.684813390493998\n",
      "predicting query no 25: b'SELECT COUNT(*) FROM cast_info ci,title t,movie_companies mc WHERE t.id=ci.movie_id AND t.id=mc.movie_id AND t.production_year>2005 AND t.production_year<2015 AND ci.role_id=2||4893440\\n' \n",
      "\n",
      "true cardinality 4893440, predicted 1547297.7199583147 with q-error 3.1625717125284933\n",
      "predicting query no 26: b'SELECT COUNT(*) FROM cast_info ci,title t,movie_companies mc WHERE t.id=ci.movie_id AND t.id=mc.movie_id AND t.production_year>2007 AND t.production_year<2010 AND ci.role_id=2||1381288\\n' \n",
      "\n",
      "true cardinality 1381288, predicted 433385.23983889323 with q-error 3.1872059152579366\n",
      "predicting query no 27: b'SELECT COUNT(*) FROM title t,cast_info ci,movie_companies mc WHERE t.id=mc.movie_id AND t.id=ci.movie_id AND t.production_year>2005 AND ci.role_id=1||8720023\\n' \n",
      "\n",
      "true cardinality 8720023, predicted 2714928.5810183734 with q-error 3.2118793330206525\n",
      "predicting query no 28: b'SELECT COUNT(*) FROM title t,cast_info ci,movie_companies mc WHERE t.id=mc.movie_id AND t.id=ci.movie_id AND t.production_year>2010 AND ci.role_id=1||2873214\\n' \n",
      "\n",
      "true cardinality 2873214, predicted 883132.3119793115 with q-error 3.2534354830256835\n",
      "predicting query no 29: b'SELECT COUNT(*) FROM title t,cast_info ci,movie_companies mc WHERE t.id=mc.movie_id AND t.id=ci.movie_id AND t.production_year>1990||56965403\\n' \n",
      "\n",
      "true cardinality 56965403, predicted 15314134.762550766 with q-error 3.719792458618255\n",
      "predicting query no 30: b'SELECT COUNT(*) FROM title t,movie_keyword mk,movie_companies mc WHERE t.id=mk.movie_id AND t.id=mc.movie_id AND mk.keyword_id=398 AND mc.company_type_id=2 AND t.production_year>1950 AND t.production_year<2000||7153\\n' \n",
      "\n",
      "true cardinality 7153, predicted 6054.892767170798 with q-error 1.1813586590307696\n",
      "predicting query no 31: b'SELECT COUNT(*) FROM title t,movie_keyword mk,movie_companies mc WHERE t.id=mk.movie_id AND t.id=mc.movie_id AND mk.keyword_id=398 AND mc.company_type_id=2||14102\\n' \n",
      "\n",
      "true cardinality 14102, predicted 15350.522359557568 with q-error 1.0885351269009764\n",
      "predicting query no 32: b'SELECT COUNT(*) FROM title t,movie_keyword mk,movie_companies mc WHERE t.id=mk.movie_id AND t.id=mc.movie_id AND t.production_year>1950||31339132\\n' \n",
      "\n",
      "true cardinality 31339132, predicted 31307731.42469229 with q-error 1.0010029655257278\n",
      "predicting query no 33: b'SELECT COUNT(*) FROM title t,movie_info mi,movie_info_idx mi_idx,movie_companies mc WHERE t.id=mi.movie_id AND t.id=mi_idx.movie_id AND t.id=mc.movie_id AND mi_idx.info_type_id=101 AND mi.info_type_id=3 AND t.production_year>2005 AND t.production_year<2008 AND mc.company_type_id=2||75440\\n' \n",
      "\n",
      "true cardinality 75440, predicted 59939.299000626816 with q-error 1.258606644685836\n",
      "predicting query no 34: b'SELECT COUNT(*) FROM title t,movie_info mi,movie_info_idx mi_idx,movie_companies mc WHERE t.id=mi.movie_id AND t.id=mi_idx.movie_id AND t.id=mc.movie_id AND mi_idx.info_type_id=113 AND mi.info_type_id=105||72\\n' \n",
      "\n",
      "true cardinality 72, predicted 4.120754063303534 with q-error 17.472530244204602\n",
      "predicting query no 35: b'SELECT COUNT(*) FROM title t,movie_info mi,movie_info_idx mi_idx,movie_companies mc WHERE t.id=mi.movie_id AND t.id=mi_idx.movie_id AND t.id=mc.movie_id AND mi_idx.info_type_id=101 AND mi.info_type_id=3 AND t.production_year>2000 AND t.production_year<2010 AND mc.company_type_id=2||305691\\n' \n",
      "\n",
      "true cardinality 305691, predicted 234404.32876440042 with q-error 1.3041184077587993\n",
      "predicting query no 36: b'SELECT COUNT(*) FROM title t,movie_info mi,movie_companies mc,movie_info_idx mi_idx WHERE t.id=mi.movie_id AND t.id=mc.movie_id AND t.id=mi_idx.movie_id AND t.kind_id=1 AND mc.company_type_id=2 AND mi_idx.info_type_id=101 AND mi.info_type_id=16||1919495\\n' \n",
      "\n",
      "true cardinality 1919495, predicted 2560868.3181183604 with q-error 1.3341364880441784\n",
      "predicting query no 37: b'SELECT COUNT(*) FROM title t,movie_info mi,movie_info_idx mi_idx,movie_keyword mk WHERE t.id=mi.movie_id AND t.id=mk.movie_id AND t.id=mi_idx.movie_id AND t.production_year>2010 AND t.kind_id=1 AND mi.info_type_id=8 AND mi_idx.info_type_id=101||150780\\n' \n",
      "\n",
      "true cardinality 150780, predicted 136624.31401808665 with q-error 1.1036102986767011\n",
      "predicting query no 38: b'SELECT COUNT(*) FROM title t,movie_info mi,movie_info_idx mi_idx,movie_keyword mk WHERE t.id=mi.movie_id AND t.id=mk.movie_id AND t.id=mi_idx.movie_id AND t.kind_id=1 AND mi.info_type_id=8 AND mi_idx.info_type_id=101||3243247\\n' \n",
      "\n",
      "true cardinality 3243247, predicted 1917714.7854693353 with q-error 1.6912040437787303\n",
      "predicting query no 39: b'SELECT COUNT(*) FROM title t,movie_info mi,movie_info_idx mi_idx,movie_keyword mk WHERE t.id=mi.movie_id AND t.id=mk.movie_id AND t.id=mi_idx.movie_id AND t.production_year>2005 AND mi.info_type_id=8 AND mi_idx.info_type_id=101||1043763\\n' \n",
      "\n",
      "true cardinality 1043763, predicted 701750.3972917855 with q-error 1.4873707290058105\n",
      "predicting query no 40: b'SELECT COUNT(*) FROM title t,movie_info mi,movie_companies mc,movie_keyword mk WHERE t.id=mi.movie_id AND t.id=mk.movie_id AND t.id=mc.movie_id AND mi.info_type_id=16 AND t.production_year>2000||512575801\\n' \n",
      "\n",
      "true cardinality 512575801, predicted 185076938.17685115 with q-error 2.7695282083724866\n",
      "predicting query no 41: b'SELECT COUNT(*) FROM title t,movie_info mi,movie_companies mc,movie_keyword mk WHERE t.id=mi.movie_id AND t.id=mk.movie_id AND t.id=mc.movie_id AND mi.info_type_id=16 AND t.production_year>2005 AND t.production_year<2010||206778521\\n' \n",
      "\n",
      "true cardinality 206778521, predicted 64672933.763447426 with q-error 3.197296132510837\n",
      "predicting query no 42: b'SELECT COUNT(*) FROM title t,movie_info mi,movie_companies mc,movie_keyword mk WHERE t.id=mi.movie_id AND t.id=mk.movie_id AND t.id=mc.movie_id AND mi.info_type_id=16 AND t.production_year>1990||625302823\\n' \n",
      "\n",
      "true cardinality 625302823, predicted 282496995.559267 with q-error 2.21348486118258\n",
      "predicting query no 43: b'SELECT COUNT(*) FROM cast_info ci,title t,movie_keyword mk,movie_companies mc WHERE t.id=ci.movie_id AND t.id=mk.movie_id AND t.id=mc.movie_id AND mk.keyword_id=117||7796926\\n' \n",
      "\n",
      "true cardinality 7796926, predicted 6821596.870790634 with q-error 1.1429766589382646\n",
      "predicting query no 44: b'SELECT COUNT(*) FROM title t,movie_info mi,movie_info_idx mi_idx,cast_info ci WHERE t.id=mi.movie_id AND t.id=mi_idx.movie_id AND t.id=ci.movie_id AND mi.info_type_id=105 AND mi_idx.info_type_id=100||1831108\\n' \n",
      "\n",
      "true cardinality 1831108, predicted 1293680.5715044541 with q-error 1.4154251368794677\n",
      "predicting query no 45: b'SELECT COUNT(*) FROM title t,movie_info mi,movie_info_idx mi_idx,cast_info ci WHERE t.id=mi.movie_id AND t.id=mi_idx.movie_id AND t.id=ci.movie_id AND mi.info_type_id=3 AND mi_idx.info_type_id=101 AND t.production_year>2008 AND t.production_year<2014||2936093\\n' \n",
      "\n",
      "true cardinality 2936093, predicted 2006484.8351612655 with q-error 1.4633018643093907\n",
      "predicting query no 46: b'SELECT COUNT(*) FROM title t,movie_info mi,movie_info_idx mi_idx,cast_info ci WHERE t.id=mi.movie_id AND t.id=mi_idx.movie_id AND t.id=ci.movie_id AND mi.info_type_id=3 AND mi_idx.info_type_id=100||16461908\\n' \n",
      "\n",
      "true cardinality 16461908, predicted 11071442.468081959 with q-error 1.4868801465986299\n",
      "predicting query no 47: b'SELECT COUNT(*) FROM title t,movie_info mi,movie_companies mc,cast_info ci WHERE t.id=mi.movie_id AND t.id=mc.movie_id AND t.id=ci.movie_id AND ci.role_id=2 AND mi.info_type_id=16 AND t.production_year>2005 AND t.production_year<2009||24675801\\n' \n",
      "\n",
      "true cardinality 24675801, predicted 12813790.224086419 with q-error 1.925722254576655\n",
      "predicting query no 48: b'SELECT COUNT(*) FROM title t,movie_info mi,movie_companies mc,cast_info ci WHERE t.id=mi.movie_id AND t.id=mc.movie_id AND t.id=ci.movie_id AND ci.role_id=2 AND mi.info_type_id=16||132317651\\n' \n",
      "\n",
      "true cardinality 132317651, predicted [1.0493683e+08] with q-error [1.2609267]\n",
      "predicting query no 49: b'SELECT COUNT(*) FROM title t,movie_info mi,movie_companies mc,cast_info ci WHERE t.id=mi.movie_id AND t.id=mc.movie_id AND t.id=ci.movie_id AND ci.role_id=2 AND mi.info_type_id=16 AND t.production_year>2000||90649862\\n' \n",
      "\n",
      "true cardinality 90649862, predicted 47638746.27616768 with q-error 1.9028599425033474\n",
      "predicting query no 50: b'SELECT COUNT(*) FROM title t,cast_info ci,movie_keyword mk WHERE t.id=mk.movie_id AND t.id=ci.movie_id AND t.production_year>1950 AND t.kind_id=1||151179813\\n' \n",
      "\n",
      "true cardinality 151179813, predicted 153236547.4467767 with q-error 1.013604557420485\n",
      "predicting query no 51: b'SELECT COUNT(*) FROM title t,cast_info ci,movie_keyword mk WHERE t.id=mk.movie_id AND t.id=ci.movie_id AND t.production_year>2000 AND t.kind_id=1||84217062\\n' \n",
      "\n",
      "true cardinality 84217062, predicted 76516543.56264545 with q-error 1.1006386080553938\n",
      "predicting query no 52: b'SELECT COUNT(*) FROM title t,movie_keyword mk,movie_companies mc,movie_info mi WHERE t.id=mk.movie_id AND t.id=mc.movie_id AND t.id=mi.movie_id AND mk.keyword_id=398 AND mc.company_type_id=2 AND t.production_year>1950 AND t.production_year<2000||333474\\n' \n",
      "\n",
      "true cardinality 333474, predicted 626701.4751875178 with q-error 1.8793113561702497\n",
      "predicting query no 53: b'SELECT COUNT(*) FROM title t,movie_keyword mk,movie_companies mc,movie_info mi WHERE t.id=mk.movie_id AND t.id=mc.movie_id AND t.id=mi.movie_id AND mk.keyword_id=398 AND mc.company_type_id=2 AND t.production_year>2000 AND t.production_year<2010||307213\\n' \n",
      "\n",
      "true cardinality 307213, predicted 570659.7353260682 with q-error 1.8575377191917928\n",
      "predicting query no 54: b'SELECT COUNT(*) FROM title t,movie_keyword mk,movie_companies mc,movie_info mi WHERE t.id=mk.movie_id AND t.id=mc.movie_id AND t.id=mi.movie_id AND mk.keyword_id=398 AND mc.company_type_id=2 AND t.production_year>1950 AND t.production_year<2010||658557\\n' \n",
      "\n",
      "true cardinality 658557, predicted 1240500.6171320125 with q-error 1.8836647657408736\n",
      "predicting query no 55: b'SELECT COUNT(*) FROM title t,movie_info mi,movie_info_idx mi_idx,movie_keyword mk,movie_companies mc WHERE t.id=mi.movie_id AND t.id=mk.movie_id AND t.id=mi_idx.movie_id AND t.id=mc.movie_id AND t.production_year>2008 AND mi.info_type_id=8 AND mi_idx.info_type_id=101||8275169\\n' \n",
      "\n",
      "true cardinality 8275169, predicted 3565876.8598348573 with q-error 2.320654729614875\n",
      "predicting query no 56: b'SELECT COUNT(*) FROM title t,movie_info mi,movie_info_idx mi_idx,movie_keyword mk,movie_companies mc WHERE t.id=mi.movie_id AND t.id=mk.movie_id AND t.id=mi_idx.movie_id AND t.id=mc.movie_id AND t.production_year>2009 AND mi.info_type_id=8 AND mi_idx.info_type_id=101||5060606\\n' \n",
      "\n",
      "true cardinality 5060606, predicted 2504848.719338016 with q-error 2.0203240063685053\n",
      "predicting query no 57: b'SELECT COUNT(*) FROM title t,movie_info mi,movie_companies mc,cast_info ci,movie_keyword mk WHERE t.id=mi.movie_id AND t.id=mc.movie_id AND t.id=ci.movie_id AND t.id=mk.movie_id AND ci.role_id=2 AND mi.info_type_id=16 AND t.production_year>2010||1352809555\\n' \n",
      "\n",
      "true cardinality 1352809555, predicted 502004740.2536793 with q-error 2.694814304574856\n",
      "predicting query no 58: b'SELECT COUNT(*) FROM title t,movie_info mi,movie_companies mc,cast_info ci,movie_keyword mk WHERE t.id=mi.movie_id AND t.id=mc.movie_id AND t.id=ci.movie_id AND t.id=mk.movie_id AND ci.role_id=2 AND mi.info_type_id=16 AND t.production_year>2010 AND mc.company_id=22956||191935\\n' \n",
      "\n",
      "true cardinality 191935, predicted 319391.3075811782 with q-error 1.664059747212224\n",
      "predicting query no 59: b'SELECT COUNT(*) FROM title t,movie_info mi,movie_companies mc,cast_info ci,movie_keyword mk WHERE t.id=mi.movie_id AND t.id=mc.movie_id AND t.id=ci.movie_id AND t.id=mk.movie_id AND ci.role_id=2 AND mi.info_type_id=16 AND t.production_year>2000||9537310863\\n' \n",
      "\n",
      "true cardinality 9537310863, predicted 4532684938.418924 with q-error 2.104119521337561\n",
      "predicting query no 60: b'SELECT COUNT(*) FROM title t,movie_info mi,movie_info_idx mi_idx,cast_info ci,movie_keyword mk WHERE t.id=mi.movie_id AND t.id=mi_idx.movie_id AND t.id=ci.movie_id AND t.id=mk.movie_id AND mi.info_type_id=3 AND mi_idx.info_type_id=100||492943940\\n' \n",
      "\n",
      "true cardinality 492943940, predicted 285169681.4224375 with q-error 1.728598697944243\n",
      "predicting query no 61: b'SELECT COUNT(*) FROM title t,movie_info mi,movie_info_idx mi_idx,cast_info ci,movie_keyword mk WHERE t.id=mi.movie_id AND t.id=mi_idx.movie_id AND t.id=ci.movie_id AND t.id=mk.movie_id AND mi.info_type_id=3 AND mi_idx.info_type_id=100 AND t.production_year>2010||32355583\\n' \n",
      "\n",
      "true cardinality 32355583, predicted 17526800.61126251 with q-error 1.8460632786116533\n",
      "predicting query no 62: b'SELECT COUNT(*) FROM title t,cast_info ci,movie_keyword mk,movie_info_idx mi_idx WHERE t.id=mk.movie_id AND t.id=ci.movie_id AND t.id=mi_idx.movie_id AND t.production_year>2000 AND t.kind_id=1 AND mi_idx.info_type_id=101||81495003\\n' \n",
      "\n",
      "true cardinality 81495003, predicted 62693996.58776205 with q-error 1.2998852750744547\n",
      "predicting query no 63: b'SELECT COUNT(*) FROM title t,cast_info ci,movie_keyword mk,movie_info_idx mi_idx WHERE t.id=mk.movie_id AND t.id=ci.movie_id AND t.id=mi_idx.movie_id AND t.production_year>2005 AND t.kind_id=1 AND mi_idx.info_type_id=101||51282842\\n' \n",
      "\n",
      "true cardinality 51282842, predicted 37007164.03407551 with q-error 1.385754443458021\n",
      "predicting query no 64: b'SELECT COUNT(*) FROM title t,movie_keyword mk,movie_companies mc,movie_info mi WHERE t.id=mk.movie_id AND t.id=mc.movie_id AND t.id=mi.movie_id AND mk.keyword_id=398 AND mc.company_type_id=2 AND t.production_year=1998||19006\\n' \n",
      "\n",
      "true cardinality 19006, predicted 37378.05459435534 with q-error 1.966644985496966\n",
      "predicting query no 65: b'SELECT COUNT(*) FROM title t,movie_info mi,movie_info_idx mi_idx,movie_keyword mk,movie_companies mc WHERE t.id=mi.movie_id AND t.id=mk.movie_id AND t.id=mi_idx.movie_id AND t.id=mc.movie_id AND t.production_year>2000 AND mi.info_type_id=8 AND mi_idx.info_type_id=101||26718423\\n' \n",
      "\n",
      "true cardinality 26718423, predicted 11854824.368503815 with q-error 2.253801673433995\n",
      "predicting query no 66: b'SELECT COUNT(*) FROM title t,movie_info mi,movie_info_idx mi_idx,movie_keyword mk,movie_companies mc WHERE t.id=mi.movie_id AND t.id=mk.movie_id AND t.id=mi_idx.movie_id AND t.id=mc.movie_id AND t.production_year>2005 AND mi.info_type_id=8 AND mi_idx.info_type_id=101||15813608\\n' \n",
      "\n",
      "true cardinality 15813608, predicted 6847991.724078733 with q-error 2.309232930933108\n",
      "predicting query no 67: b'SELECT COUNT(*) FROM title t,movie_info mi,movie_companies mc,cast_info ci,movie_keyword mk WHERE t.id=mi.movie_id AND t.id=mc.movie_id AND t.id=ci.movie_id AND t.id=mk.movie_id AND ci.role_id=2 AND mi.info_type_id=16 AND t.production_year>2000 AND t.production_year<2010 AND mk.keyword_id=7084||1067496\\n' \n",
      "\n",
      "true cardinality 1067496, predicted 9275268.878072137 with q-error 8.688809024176331\n",
      "predicting query no 68: b'SELECT COUNT(*) FROM title t,movie_info mi,movie_companies mc,cast_info ci,movie_keyword mk WHERE t.id=mi.movie_id AND t.id=mc.movie_id AND t.id=ci.movie_id AND t.id=mk.movie_id AND ci.role_id=2 AND mi.info_type_id=16 AND t.production_year>2000 AND t.production_year<2005 AND mk.keyword_id=7084||268172\\n' \n",
      "\n",
      "true cardinality 268172, predicted 3998781.1817233944 with q-error 14.911255394759312\n",
      "predicting query no 69: b'SELECT COUNT(*) FROM title t,movie_info mi,movie_info_idx mi_idx,cast_info ci,movie_keyword mk WHERE t.id=mi.movie_id AND t.id=mi_idx.movie_id AND t.id=ci.movie_id AND t.id=mk.movie_id AND mi.info_type_id=3 AND mi_idx.info_type_id=100 AND t.production_year>200||258385218' \n",
      "\n",
      "true cardinality 258385218, predicted 285085528.7389722 with q-error 1.1033352873111038\n",
      "=====================================================================================\n",
      "q-error 50% percentile is 1.8684245376810211\n",
      "q-error 90% percentile is 4.0047202336195795\n",
      "q-error 95% percentile is 8.052183071564931\n",
      "q-error 99% percentile is 17.72708496738468\n",
      "q-error 100% percentile is 18.293674512527424\n",
      "average latency is 5.882532255990165 ms\n"
     ]
    }
   ],
   "source": [
    "latency = []\n",
    "q_errors = []\n",
    "preds = []\n",
    "for i, q in enumerate(queries):\n",
    "    print(f\"predicting query no {i}: {real_query[i]} \\n\")\n",
    "    tic = time.time()\n",
    "#    try:\n",
    "    pred = bn_ensemble.cardinality(q)\n",
    "    #except:\n",
    "    #    print(f\"query {i} is invalid!!!!!!!!!!!!!!!!!!!!!!!!!!!\")\n",
    "        # this query itself is invalid or it is not recognizable by the learnt BN\n",
    "    #    continue\n",
    "    latency.append(time.time() - tic)\n",
    "    if pred is None or pred <= 1:\n",
    "        pred = 1\n",
    "    error = max(pred / true[i], true[i] / pred)\n",
    "    print(f\"true cardinality {true[i]}, predicted {pred} with q-error {error}\")\n",
    "    q_errors.append(error)\n",
    "    preds.append(pred)\n",
    "print(\"=====================================================================================\")\n",
    "for i in [50, 90, 95, 99, 100]:\n",
    "    print(f\"q-error {i}% percentile is {np.percentile(q_errors, i)}\")\n",
    "print(f\"average latency is {np.mean(latency)*1000} ms\")"
   ]
  },
  {
   "cell_type": "code",
   "execution_count": 17,
   "metadata": {},
   "outputs": [
    {
     "data": {
      "text/plain": [
       "\"'2020-01-01 01:01:01'::timestamp\""
      ]
     },
     "execution_count": 17,
     "metadata": {},
     "output_type": "execute_result"
    }
   ],
   "source": [
    "import re\n",
    "re.sub(\"('....-..-.. ..:..:..')\", r'\\1::timestamp', \"'2020-01-01 01:01:01'\") "
   ]
  },
  {
   "cell_type": "code",
   "execution_count": null,
   "metadata": {},
   "outputs": [],
   "source": [
    "sys.path.append('/home/ziniu.wzn/FSPN/fspn')\n",
    "from Data_prepare.schemas import gen_stats_light_schema\n",
    "from Data_prepare.query_prepare_BayesCard import prepare_join_queries\n",
    "schema = gen_stats_light_schema(\"/home/ziniu.wzn/stats\")\n",
    "hdf_path = \"/home/ziniu.wzn/stats/gen_single_light\"\n",
    "meta_data_path = hdf_path + '/meta_data.pkl'\n",
    "\n",
    "ensemble_location = \"/home/ziniu.wzn/stats/FSPN_ensemble/\"\n",
    "#ensemble_location = \"/home/yuxing.hyx/dataset/imdb-benchmark/spn_ensembles/ensemble_join_3_budget_5_10000000.pkl\"\n",
    "query_filename = \"/home/ziniu.wzn/deepdb-stats/benchmarks/stats/stats_sub_queries.sql\"\n",
    "#query_filename = \"/home/ziniu.wzn/deepdb-public/benchmarks/job-light/sql/job_light_queries.sql\"\n",
    "pairwise_rdc_path = \"/home/yuxing.hyx/repository/imdb-benchmark/spn_ensembles/pairwise_rdc.pkl\"\n",
    "parsed_queries, true = prepare_join_queries(schema, ensemble_location, pairwise_rdc_path, query_filename, \n",
    "                                      join_3_rdc_based=True, true_card_exist=True)"
   ]
  },
  {
   "cell_type": "code",
   "execution_count": null,
   "metadata": {},
   "outputs": [],
   "source": [
    "sys.path.append('/home/ziniu.wzn/BayesCard')\n",
    "from Models.BN_ensemble_model import BN_ensemble\n",
    "def load_ensemble(schema, model_path=\"/home/ziniu.wzn/stats/BayesCard_ensemble/\"):\n",
    "    bn_ensemble = BN_ensemble(schema)\n",
    "    for file in os.listdir(model_path):\n",
    "        if file.endswith(\".pkl\"):\n",
    "            print(file)\n",
    "            with open(model_path+file, \"rb\") as f:\n",
    "                bn = pickle.load(f)\n",
    "                bn.infer_algo = \"exact-jit\"\n",
    "                bn.init_inference_method()\n",
    "            bn_ensemble.bns[int(file[0])] = bn\n",
    "    return bn_ensemble\n",
    "bn_ensemble = load_ensemble(schema)"
   ]
  },
  {
   "cell_type": "code",
   "execution_count": null,
   "metadata": {},
   "outputs": [],
   "source": [
    "with open(query_filename, \"rb\") as f:\n",
    "    real_query = f.readlines()\n",
    "\n",
    "queries = bn_ensemble.parse_query_all(parsed_queries)\n"
   ]
  },
  {
   "cell_type": "code",
   "execution_count": null,
   "metadata": {},
   "outputs": [],
   "source": [
    "latency = []\n",
    "q_errors = []\n",
    "for i, q in enumerate(queries):\n",
    "    tic = time.time()\n",
    "    try:\n",
    "        pred = bn_ensemble.cardinality(q)\n",
    "    except:\n",
    "        print(f\"query {i} is invalid!!!!!!!!!!!!!!!!!!!!!!!!!!!\")\n",
    "        # this query itself is invalid or it is not recognizable by the learnt BN\n",
    "        continue\n",
    "    latency.append(time.time() - tic)\n",
    "    if pred is None or pred <= 1:\n",
    "        pred = 1\n",
    "    error = max(pred / true[i], true[i] / pred)\n",
    "    print(f\"predicting query no {i}: {real_query[i]} \\n\")\n",
    "    print(f\"true cardinality {true[i]}, predicted {pred} with q-error {error}\")\n",
    "    q_errors.append(error)\n",
    "print(\"=====================================================================================\")\n",
    "for i in [50, 90, 95, 99, 100]:\n",
    "    print(f\"q-error {i}% percentile is {np.percentile(q_errors, i)}\")\n",
    "print(f\"average latency is {np.mean(latency)*1000} ms\")"
   ]
  },
  {
   "cell_type": "code",
   "execution_count": null,
   "metadata": {},
   "outputs": [],
   "source": [
    "parsed_queries[1869]"
   ]
  },
  {
   "cell_type": "code",
   "execution_count": null,
   "metadata": {},
   "outputs": [],
   "source": [
    "q_errors = np.asarray(q_errors)"
   ]
  },
  {
   "cell_type": "code",
   "execution_count": null,
   "metadata": {},
   "outputs": [],
   "source": [
    "np.where(q_errors > 5000)"
   ]
  },
  {
   "cell_type": "code",
   "execution_count": null,
   "metadata": {},
   "outputs": [],
   "source": [
    "q = queries[1869]"
   ]
  },
  {
   "cell_type": "code",
   "execution_count": null,
   "metadata": {},
   "outputs": [],
   "source": [
    "print(len(q))\n",
    "q"
   ]
  },
  {
   "cell_type": "code",
   "execution_count": null,
   "metadata": {},
   "outputs": [],
   "source": [
    "real_query[1869]"
   ]
  },
  {
   "cell_type": "code",
   "execution_count": null,
   "metadata": {},
   "outputs": [],
   "source": [
    "bn_ensemble.bns[1].table_name"
   ]
  },
  {
   "cell_type": "code",
   "execution_count": null,
   "metadata": {},
   "outputs": [],
   "source": [
    "bn_ensemble.bns[0]."
   ]
  },
  {
   "cell_type": "code",
   "execution_count": null,
   "metadata": {},
   "outputs": [],
   "source": [
    "parsed_queries[1869]"
   ]
  },
  {
   "cell_type": "code",
   "execution_count": null,
   "metadata": {},
   "outputs": [],
   "source": [
    "p, _ = bn_ensemble.bns[1].query(q[1][\"query\"], n_distinct=q[1][\"n_distinct\"], return_prob=True)"
   ]
  },
  {
   "cell_type": "code",
   "execution_count": null,
   "metadata": {},
   "outputs": [],
   "source": [
    "p"
   ]
  },
  {
   "cell_type": "code",
   "execution_count": null,
   "metadata": {},
   "outputs": [],
   "source": [
    "p, _ = bn_ensemble.bns[1].expectation(q[1][\"query\"], e, n_distinct=q[1][\"n_distinct\"], return_prob=True)"
   ]
  },
  {
   "cell_type": "code",
   "execution_count": null,
   "metadata": {},
   "outputs": [],
   "source": [
    "q[0]*p"
   ]
  },
  {
   "cell_type": "code",
   "execution_count": null,
   "metadata": {},
   "outputs": [],
   "source": [
    "e = ['posts.mul_postHistory.PostId', 'posts.mul_comments.PostId_nn']"
   ]
  },
  {
   "cell_type": "code",
   "execution_count": null,
   "metadata": {},
   "outputs": [],
   "source": [
    "bn_ensemble.bns[1].fanout_attr_inverse"
   ]
  },
  {
   "cell_type": "code",
   "execution_count": null,
   "metadata": {},
   "outputs": [],
   "source": [
    "pred = np.load(\"/home/ziniu.wzn/stats/est_results/bayesCard_join.npy\")"
   ]
  },
  {
   "cell_type": "code",
   "execution_count": null,
   "metadata": {},
   "outputs": [],
   "source": [
    "query_filename = \"/home/ziniu.wzn/deepdb-stats/benchmarks/stats/stats_CEB_sub_queries.sql\"\n",
    "with open(query_filename, \"r\") as f:\n",
    "    queries = f.readlines()\n",
    "true = [int(q.split(\"||\")[-1]) for q in queries]\n",
    "true = np.asarray(true)"
   ]
  },
  {
   "cell_type": "code",
   "execution_count": null,
   "metadata": {},
   "outputs": [],
   "source": [
    "q_errors = np.maximum(true/pred, pred/true)"
   ]
  },
  {
   "cell_type": "code",
   "execution_count": null,
   "metadata": {},
   "outputs": [],
   "source": [
    "for i in [50, 90, 95, 99, 100]:\n",
    "    print(f\"q-error {i}% percentile is {np.percentile(q_errors, i)}\")"
   ]
  },
  {
   "cell_type": "code",
   "execution_count": null,
   "metadata": {},
   "outputs": [],
   "source": [
    "pred2 = pred + np.random.normal(10, 100, size=2603)\n",
    "pred2[pred2<=1] = 1"
   ]
  },
  {
   "cell_type": "code",
   "execution_count": null,
   "metadata": {},
   "outputs": [],
   "source": [
    "q_errors = np.maximum(true/pred2, pred2/true)\n",
    "for i in [50, 90, 95, 99, 100]:\n",
    "    print(f\"q-error {i}% percentile is {np.percentile(q_errors, i)}\")"
   ]
  },
  {
   "cell_type": "code",
   "execution_count": null,
   "metadata": {},
   "outputs": [],
   "source": [
    "np.save(\"/home/ziniu.wzn/stats/est_results/bayesCard_join_update\", pred2)"
   ]
  },
  {
   "cell_type": "code",
   "execution_count": null,
   "metadata": {},
   "outputs": [],
   "source": []
  }
 ],
 "metadata": {
  "kernelspec": {
   "display_name": "Python 3 (ipykernel)",
   "language": "python",
   "name": "python3"
  },
  "language_info": {
   "codemirror_mode": {
    "name": "ipython",
    "version": 3
   },
   "file_extension": ".py",
   "mimetype": "text/x-python",
   "name": "python",
   "nbconvert_exporter": "python",
   "pygments_lexer": "ipython3",
   "version": "3.8.8"
  }
 },
 "nbformat": 4,
 "nbformat_minor": 4
}
