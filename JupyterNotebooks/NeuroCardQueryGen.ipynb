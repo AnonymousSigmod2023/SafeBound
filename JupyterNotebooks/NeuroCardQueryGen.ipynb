{
 "cells": [
  {
   "cell_type": "code",
   "execution_count": 3,
   "id": "dc454ee6-df7d-4f63-95cc-47db536d793b",
   "metadata": {},
   "outputs": [],
   "source": [
    "rootDirectory = '/home/ec2-user/FrequencyBounds/'\n",
    "import sys\n",
    "sys.path.append(rootDirectory + 'Source')\n",
    "import pandas as pd\n",
    "import pickle\n",
    "from SQLParser import *"
   ]
  },
  {
   "cell_type": "code",
   "execution_count": 24,
   "id": "32b643bb-1f95-4f90-a9de-e42577383c72",
   "metadata": {},
   "outputs": [],
   "source": [
    "def removeFKJoins(queryJG):\n",
    "    newJG = JoinQueryGraph()\n",
    "    for vertex in queryJG.vertexDict.values():\n",
    "        newJG.addAlias(vertex.tableName, vertex.alias)\n",
    "        \n",
    "    for vertex in queryJG.vertexDict.values():\n",
    "        for pred in vertex.predicates:\n",
    "            newJG.addPredicate(vertex.alias, pred.colName, pred.predType, pred.compValue)\n",
    "        for i in range(len(vertex.outputJoinCols)):\n",
    "            if vertex.outputJoinCols[i] == \"MOVIE_ID\" and vertex.edgeJoinCols[i] == \"MOVIE_ID\":  \n",
    "                newJG.addAlias(\"TITLE\", \"t\")  \n",
    "                newJG.addJoin('t', 'id', vertex.alias, 'MOVIE_ID')\n",
    "                newJG.addJoin('t', 'id', vertex.edgeAliases[i], 'MOVIE_ID')\n",
    "            else: \n",
    "                newJG.addJoin(vertex.alias, vertex.outputJoinCols[i], vertex.edgeAliases[i], vertex.edgeJoinCols[i])\n",
    "    newJG.buildJoinGraph(addImpliedJoins=False)\n",
    "    return newJG\n",
    "\n",
    "\n",
    "\n",
    "def getNeuroCardCSVLine(queryJG, trueCard):\n",
    "    line = \"\"\n",
    "    prefix = \"\"\n",
    "    for alias, table in queryJG.tableDict.items():\n",
    "        line += prefix\n",
    "        line += table + \" \" + alias\n",
    "        prefix = \",\"\n",
    "    line += \"#\"\n",
    "    prefix = \"\"\n",
    "    joinStrings = []\n",
    "    for leftTable, edges in queryJG.edgeDict.items():\n",
    "        for rightTable, rightColumn, leftColumn in edges:\n",
    "            if leftTable <= rightTable:\n",
    "                line += prefix\n",
    "                line += leftTable +\".\" + leftColumn +\"=\"+rightTable+\".\"+rightColumn\n",
    "                prefix = \",\"\n",
    "    \n",
    "    predConverter = {\"NOT LIKE\" : \"NOT_LIKE\",\n",
    "                     \"IS NULL\" : \"IS_NULL\",\n",
    "                     \"IS NOT NULL\": \"IS_NOT_NULL\",\n",
    "                    \"NOT IN\" : \"NOT_IN\"}\n",
    "    \n",
    "    line = line.lower()\n",
    "    line += \"#\"\n",
    "    prefix = \"\"\n",
    "    for alias, vertex in queryJG.vertexDict.items():\n",
    "        for predicate in vertex.predicates:\n",
    "            line += prefix\n",
    "            predicateType = predicate.predType.upper()\n",
    "            if predicateType in predConverter:\n",
    "                predicateType = predConverter[predicateType]\n",
    "            line += alias.lower() + \".\" + predicate.colName.lower() + \",\" + predicateType + \",\" \n",
    "            compValue = None\n",
    "            if isinstance(predicate.compValue, str):\n",
    "                compValue = \"'\" + predicate.compValue + \"'\"\n",
    "                if \",\" in compValue:\n",
    "                    compValue = \"\\\"\" + compValue + \"\\\"\"\n",
    "            else:\n",
    "                compValue = predicate.compValue\n",
    "            \n",
    "            if predicate.predType == \"IN\":\n",
    "                listPrefix=\"\"\n",
    "                line += \"\\\"(\"\n",
    "                for value in compValue:\n",
    "                    if isinstance(value, str):\n",
    "                        line += listPrefix + \"'\" + value + \"'\"\n",
    "                    else:\n",
    "                        line += listPrefix + value \n",
    "                    listPrefix = \",\"\n",
    "                line += \")\\\"\"\n",
    "            else:\n",
    "                line += str(compValue)\n",
    "            prefix = \",\"        \n",
    "    line += \"#\" + str(int(trueCard)) +\"\\n\"\n",
    "    return line\n",
    "        "
   ]
  },
  {
   "cell_type": "code",
   "execution_count": 25,
   "id": "8700b791-fa24-4e9f-978a-6563d13f2059",
   "metadata": {},
   "outputs": [],
   "source": [
    "benchmark = \"JOBM\"\n",
    "queryJGs = None        \n",
    "dbConn = None\n",
    "if benchmark == 'JOBLight':\n",
    "    queryJGs =  SQLFileToJoinQueryGraphs(rootDirectory + 'Workloads/JOBLightQueries.sql')\n",
    "elif benchmark == 'JOBLightRanges':\n",
    "    queryJGs =  SQLFileToJoinQueryGraphs(rootDirectory + 'Workloads/JOBLightRangesQueries.sql')\n",
    "elif benchmark == 'JOBM':\n",
    "    queryJGs =  SQLFileToJoinQueryGraphs(rootDirectory + 'Workloads/JOBMQueries.sql')\n",
    "\n",
    "allQueryHints = pickle.load(open(\"/home/ec2-user/FrequencyBounds/StatObjects/TrueCardinality_\" + benchmark + \".pkl\", 'rb'))\n",
    "queryLabels = []\n",
    "subQueryTables = []\n",
    "neuroCardCSVLines = []\n",
    "hintCSVLines = []\n",
    "for i, queryJG in enumerate(queryJGs):\n",
    "    queryHints = allQueryHints[i]\n",
    "    for j, subQuery in enumerate(queryJG.getIntermediateQueries()):\n",
    "        tables = list(subQuery.vertexDict.keys())\n",
    "        hint = [x for x in queryHints if set(x.tables) == set(tables)][0]\n",
    "        trueRows = hint.rowEstimate\n",
    "        subQueryNoFK = removeFKJoins(subQuery)\n",
    "        neuroCardCSVLines.append(getNeuroCardCSVLine(subQueryNoFK, trueRows))\n",
    "        queryLabels.append(i)\n",
    "        subQueryTables.append(tables)\n",
    "        hintCSVLines.append(str(i) + \"|\" + \",\".join(tables) + \"\\n\")\n",
    "neuroCardFile = open(\"/home/ec2-user/FrequencyBounds/Workloads/NeuroCard_\" + benchmark + \".csv\", \"w\")\n",
    "neuroCardFile.writelines(neuroCardCSVLines)\n",
    "\n",
    "hintCSVFile = open(\"/home/ec2-user/FrequencyBounds/Workloads/NeuroCardHintIndex_\" + benchmark + \".csv\", \"w\")\n",
    "hintCSVFile.writelines(hintCSVLines)"
   ]
  },
  {
   "cell_type": "code",
   "execution_count": 75,
   "id": "8e440a4e-bc24-45f4-83a3-23b20430a7af",
   "metadata": {},
   "outputs": [
    {
     "data": {
      "text/plain": [
       "['MOVIE_ID', 'MOVIE_ID']"
      ]
     },
     "execution_count": 75,
     "metadata": {},
     "output_type": "execute_result"
    }
   ],
   "source": [
    "queryJGs[0].vertexDict[\"MC\"].outputJoinCols"
   ]
  },
  {
   "cell_type": "code",
   "execution_count": 136,
   "id": "d693a9c0-fcb9-4125-b72c-f984d5609a0b",
   "metadata": {},
   "outputs": [
    {
     "data": {
      "text/plain": [
       "9472"
      ]
     },
     "execution_count": 136,
     "metadata": {},
     "output_type": "execute_result"
    }
   ],
   "source": [
    "len(hintCSVLines)"
   ]
  },
  {
   "cell_type": "code",
   "execution_count": null,
   "id": "9d215750-d904-4e24-bfd3-7d0c8deea596",
   "metadata": {},
   "outputs": [],
   "source": []
  }
 ],
 "metadata": {
  "kernelspec": {
   "display_name": "Python 3 (ipykernel)",
   "language": "python",
   "name": "python3"
  },
  "language_info": {
   "codemirror_mode": {
    "name": "ipython",
    "version": 3
   },
   "file_extension": ".py",
   "mimetype": "text/x-python",
   "name": "python",
   "nbconvert_exporter": "python",
   "pygments_lexer": "ipython3",
   "version": "3.9.12"
  }
 },
 "nbformat": 4,
 "nbformat_minor": 5
}
