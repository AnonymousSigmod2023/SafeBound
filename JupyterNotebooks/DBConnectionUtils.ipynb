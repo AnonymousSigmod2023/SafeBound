{
 "cells": [
  {
   "cell_type": "code",
   "execution_count": 16,
   "id": "976a6c24-397d-4771-a3c4-8babf8961224",
   "metadata": {},
   "outputs": [
    {
     "name": "stdout",
     "output_type": "stream",
     "text": [
      "The autoreload extension is already loaded. To reload it, use:\n",
      "  %reload_ext autoreload\n"
     ]
    }
   ],
   "source": [
    "%load_ext autoreload\n",
    "%autoreload\n",
    "from DBConnectionUtils import *"
   ]
  },
  {
   "cell_type": "code",
   "execution_count": 13,
   "id": "8ff2b767-b7b3-446f-8c80-f875239c6f27",
   "metadata": {},
   "outputs": [],
   "source": [
    "def getIMDBConn():\n",
    "    conn = psycopg2.connect(dbname=\"IMDB\", host='/tmp', user=\"kdeeds\", port='5555')\n",
    "    conn.autocommit = True\n",
    "    conn.cursor().execute(\"Load 'pg_hint_plan';\")\n",
    "    dbConn = DatabaseConnection(conn)\n",
    "    return dbConn\n",
    "\n",
    "def getSizeEstimateAndActual(query):\n",
    "    dbConn = getIMDBConn()\n",
    "    est,size = dbConn.getSizeEstimateAndActual(query)\n",
    "    dbConn.close()\n",
    "    return est, size\n",
    "\n",
    "def getFreqBound(query, dbStats, VA):\n",
    "    return dbStats.frequencyBound(query, VA)"
   ]
  },
  {
   "cell_type": "code",
   "execution_count": 8,
   "id": "0a49b1b8-19d1-4fae-9922-0776f49c9736",
   "metadata": {},
   "outputs": [],
   "source": [
    "tableNamesList = [ \"cast_info\", \"aka_name\", \"aka_title\",\n",
    "             \"char_name\", \"comp_cast_type\", \"company_name\",\n",
    "             \"company_type\", \"complete_cast\", \"info_type\",\n",
    "             \"keyword\", \"kind_type\", \"link_type\",\n",
    "             \"movie_companies\", \"movie_info_idx\", \"movie_info\",\n",
    "             \"movie_keyword\", \"movie_link\", \"name\",\n",
    "             \"person_info\", \"role_type\", \"title\"]\n",
    "\n",
    "tableJoinColsList = [\n",
    "                   [\"id\", \"person_id\", \"movie_id\", \"person_role_id\", \"role_id\"],\n",
    "                   [\"id\", \"person_id\"],\n",
    "                   [\"id\", \"movie_id\", \"kind_id\"],\n",
    "                   [\"id\"],\n",
    "                   [\"id\", \"kind\"],\n",
    "                   [\"id\"],\n",
    "                   [\"id\", \"kind\"],\n",
    "                   [\"id\", \"movie_id\", \"subject_id\", \"status_id\"],\n",
    "                   [\"id\", \"info\"],\n",
    "                   [\"id\"],\n",
    "                   [\"id\", \"kind\"],\n",
    "                   [\"id\", \"link\"],\n",
    "                   [\"id\", \"movie_id\", \"company_id\", \"company_type_id\"],\n",
    "                   [\"id\", \"movie_id\", \"info_type_id\"],\n",
    "                   [\"id\", \"movie_id\", \"info_type_id\"],\n",
    "                   [\"id\", \"movie_id\", \"keyword_id\"],\n",
    "                   [\"id\", \"movie_id\", \"linked_movie_id\", \"link_type_id\"],\n",
    "                   [\"id\"],\n",
    "                   [\"id\", \"person_id\", \"info_type_id\"],\n",
    "                   [\"id\", \"role\"],\n",
    "                   [\"id\", \"kind_id\"]\n",
    "                  ]\n",
    "\n",
    "tableFilterColsList = [[\"note\", \"role_id\", \"nr_order\"],\n",
    "                   [],\n",
    "                   [],\n",
    "                   [],\n",
    "                   [],\n",
    "                   [\"country_code\"],\n",
    "                   [\"kind\"],\n",
    "                   [],\n",
    "                   [\"info\"],\n",
    "                   [\"keyword\"],\n",
    "                   [],\n",
    "                   [],\n",
    "                   [\"company_type_id\",\"note\"],\n",
    "                   [\"info_type_id\"],\n",
    "                   [\"info\", \"info_type_id\"],\n",
    "                   [\"keyword_id\"],\n",
    "                   [],\n",
    "                   [\"gender\", \"name\"],\n",
    "                   [],\n",
    "                   [\"role\"],\n",
    "                   [\"episode_nr\", \"season_nr\", \"production_year\", \"phonetic_code\", \"series_years\", \"kind_id\"]\n",
    "                ]"
   ]
  },
  {
   "cell_type": "code",
   "execution_count": 9,
   "id": "5c499edc-fe0b-4507-b6de-b02460a33a8d",
   "metadata": {},
   "outputs": [],
   "source": [
    "dbConn = getIMDBConn()\n",
    "for i in range(len(tableNamesList)):\n",
    "    for filterCol in tableFilterColsList[i]:\n",
    "        for filterCol2 in tableFilterColsList[i]:\n",
    "            if filterCol == filterCol2:\n",
    "                continue    \n",
    "            dbConn.dropStatistics(filterCol, filterCol2, tableNamesList[i])"
   ]
  },
  {
   "cell_type": "code",
   "execution_count": 39,
   "id": "46e7ea94-1f0f-42a3-b78b-8cd7eea7afc3",
   "metadata": {},
   "outputs": [],
   "source": [
    "# Test 1: Create statistics on role_id + nr_order\n",
    "dbConn = getIMDBConn()\n",
    "for i in range(len(tableNamesList)):\n",
    "    for filterCol in tableFilterColsList[i]:\n",
    "        for filterCol2 in tableFilterColsList[i]:\n",
    "            if filterCol == filterCol2:\n",
    "                continue\n",
    "            dbConn.createStatistics(filterCol, filterCol2, tableNamesList[i])\n",
    "dbConn.runAnalyze()"
   ]
  },
  {
   "cell_type": "code",
   "execution_count": null,
   "id": "5f0f8f95-b0d9-4788-85cd-00a985cd8c87",
   "metadata": {},
   "outputs": [],
   "source": []
  },
  {
   "cell_type": "code",
   "execution_count": null,
   "id": "d24b1af3-6e01-4eb6-9972-7ab4ad3d61cc",
   "metadata": {},
   "outputs": [],
   "source": []
  }
 ],
 "metadata": {
  "kernelspec": {
   "display_name": "Python 3",
   "language": "python",
   "name": "python3"
  },
  "language_info": {
   "codemirror_mode": {
    "name": "ipython",
    "version": 3
   },
   "file_extension": ".py",
   "mimetype": "text/x-python",
   "name": "python",
   "nbconvert_exporter": "python",
   "pygments_lexer": "ipython3",
   "version": "3.8.8"
  }
 },
 "nbformat": 4,
 "nbformat_minor": 5
}
