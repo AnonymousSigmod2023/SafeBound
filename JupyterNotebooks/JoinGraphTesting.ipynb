{
 "cells": [
  {
   "cell_type": "code",
   "execution_count": 26,
   "id": "9ab0896a-6c4a-470f-a4ca-7970e81cb7df",
   "metadata": {},
   "outputs": [
    {
     "name": "stdout",
     "output_type": "stream",
     "text": [
      "The autoreload extension is already loaded. To reload it, use:\n",
      "  %reload_ext autoreload\n"
     ]
    }
   ],
   "source": [
    "%load_ext autoreload\n",
    "%autoreload\n",
    "from JoinGraphUtils import *"
   ]
  },
  {
   "cell_type": "code",
   "execution_count": 29,
   "id": "e68d96ff-384a-48e0-bc38-4d9eb0558ae2",
   "metadata": {},
   "outputs": [
    {
     "name": "stdout",
     "output_type": "stream",
     "text": [
      "A is the 1th joined table with predicates: \n",
      "A joins with B on column 1\n",
      "B is the 2th joined table with predicates: \n",
      "B joins with A on column 1\n",
      "B joins with C on column 2\n",
      "C is the 3th joined table with predicates: \n",
      "C joins with D on column 1\n",
      "C joins with B on column 2\n",
      "D is the 4th joined table with predicates: \n",
      "D joins with C on column 1\n"
     ]
    },
    {
     "data": {
      "text/plain": [
       "{'C': 0, 'D': 1, 'B': 1, 'A': 2}"
      ]
     },
     "execution_count": 29,
     "metadata": {},
     "output_type": "execute_result"
    }
   ],
   "source": [
    "query = JoinQueryGraph()\n",
    "query.addJoin(\"A\", \"1\", \"B\", \"1\")\n",
    "query.addJoin(\"B\", \"2\", \"C\", \"2\")\n",
    "query.addJoin(\"D\", \"1\", \"C\", \"1\")\n",
    "query.buildJoinGraph()\n",
    "query.printJoinGraph()\n",
    "query.getTopologicalGenerations(\"C\")"
   ]
  },
  {
   "cell_type": "code",
   "execution_count": 42,
   "id": "1023ea04-e1fb-46f9-a115-cd8579fb9fd1",
   "metadata": {},
   "outputs": [
    {
     "name": "stdout",
     "output_type": "stream",
     "text": [
      "A is the 1th joined table with predicates: \n",
      "A joins with B on column 1\n",
      "A joins with C on column 1\n",
      "B is the 2th joined table with predicates: \n",
      "B joins with A on column 1\n",
      "B joins with C on column 2\n",
      "C is the 3th joined table with predicates: \n",
      "C joins with B on column 2\n",
      "C joins with A on column 1\n",
      "C joins with D on column 1\n",
      "D is the 4th joined table with predicates: \n",
      "D joins with C on column 1\n",
      "A is the 1th joined table with predicates: \n",
      "A joins with B on column 1\n",
      "A joins with C on column 1\n",
      "B is the 2th joined table with predicates: \n",
      "B joins with A on column 1\n",
      "C is the 3th joined table with predicates: \n",
      "C joins with A on column 1\n",
      "C joins with D on column 1\n",
      "D is the 4th joined table with predicates: \n",
      "D joins with C on column 1\n"
     ]
    }
   ],
   "source": [
    "copy = query.copy()\n",
    "copy.printJoinGraph()\n",
    "copy.arbitrarilyBreakCycles()\n",
    "copy.printJoinGraph()"
   ]
  },
  {
   "cell_type": "code",
   "execution_count": 43,
   "id": "ef38bf8d-48d0-4c4e-8084-4160be025685",
   "metadata": {},
   "outputs": [],
   "source": [
    "intermediateQueries = query.getIntermediateQueries()"
   ]
  },
  {
   "cell_type": "code",
   "execution_count": 44,
   "id": "b3bc8038-8d94-4872-a3d7-e3b8c4622ddc",
   "metadata": {},
   "outputs": [
    {
     "name": "stdout",
     "output_type": "stream",
     "text": [
      "New Query\n",
      "A is the 1th joined table with predicates: \n",
      "A joins with B on column 1\n",
      "B is the 2th joined table with predicates: \n",
      "B joins with A on column 1\n",
      "New Query\n",
      "A is the 1th joined table with predicates: \n",
      "A joins with C on column 1\n",
      "C is the 2th joined table with predicates: \n",
      "C joins with A on column 1\n",
      "New Query\n",
      "B is the 1th joined table with predicates: \n",
      "B joins with C on column 2\n",
      "C is the 2th joined table with predicates: \n",
      "C joins with B on column 2\n",
      "New Query\n",
      "C is the 1th joined table with predicates: \n",
      "C joins with D on column 1\n",
      "D is the 2th joined table with predicates: \n",
      "D joins with C on column 1\n",
      "New Query\n",
      "A is the 1th joined table with predicates: \n",
      "A joins with B on column 1\n",
      "A joins with C on column 1\n",
      "B is the 2th joined table with predicates: \n",
      "B joins with A on column 1\n",
      "B joins with C on column 2\n",
      "C is the 3th joined table with predicates: \n",
      "C joins with B on column 2\n",
      "C joins with A on column 1\n",
      "New Query\n",
      "A is the 1th joined table with predicates: \n",
      "A joins with C on column 1\n",
      "C is the 2th joined table with predicates: \n",
      "C joins with A on column 1\n",
      "C joins with D on column 1\n",
      "D is the 3th joined table with predicates: \n",
      "D joins with C on column 1\n",
      "New Query\n",
      "B is the 1th joined table with predicates: \n",
      "B joins with C on column 2\n",
      "C is the 2th joined table with predicates: \n",
      "C joins with B on column 2\n",
      "C joins with D on column 1\n",
      "D is the 3th joined table with predicates: \n",
      "D joins with C on column 1\n"
     ]
    }
   ],
   "source": [
    "for q in intermediateQueries:\n",
    "    print(\"New Query\")\n",
    "    q.printJoinGraph()"
   ]
  },
  {
   "cell_type": "code",
   "execution_count": null,
   "id": "ee3d477c-dcfb-4bcb-830b-ed8ef639fae5",
   "metadata": {},
   "outputs": [],
   "source": []
  }
 ],
 "metadata": {
  "kernelspec": {
   "display_name": "Python 3",
   "language": "python",
   "name": "python3"
  },
  "language_info": {
   "codemirror_mode": {
    "name": "ipython",
    "version": 3
   },
   "file_extension": ".py",
   "mimetype": "text/x-python",
   "name": "python",
   "nbconvert_exporter": "python",
   "pygments_lexer": "ipython3",
   "version": "3.8.8"
  }
 },
 "nbformat": 4,
 "nbformat_minor": 5
}
